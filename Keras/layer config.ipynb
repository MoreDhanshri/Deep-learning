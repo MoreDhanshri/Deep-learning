{
 "cells": [
  {
   "cell_type": "code",
   "execution_count": 15,
   "metadata": {
    "collapsed": false
   },
   "outputs": [],
   "source": [
    "from keras.models import Sequential\n",
    "from keras.layers import Dense\n",
    "from keras.utils.layer_utils import layer_from_config\n",
    "\n",
    "model = Sequential()\n",
    "model.add(Dense(output_dim=64, input_dim=100))\n",
    "\n",
    "config = model.layers[0].get_config()\n",
    "config_correct = {}\n",
    "config_correct['class_name'] = type(model.layers[0])\n",
    "config_correct['config'] = config\n",
    "layer_correct = layer_from_config(config_correct)\n"
   ]
  },
  {
   "cell_type": "code",
   "execution_count": 17,
   "metadata": {
    "collapsed": false
   },
   "outputs": [
    {
     "data": {
      "text/plain": [
       "{'W_constraint': None,\n",
       " 'W_regularizer': None,\n",
       " 'activation': 'linear',\n",
       " 'activity_regularizer': None,\n",
       " 'b_constraint': None,\n",
       " 'b_regularizer': None,\n",
       " 'batch_input_shape': (None, 100),\n",
       " 'bias': True,\n",
       " 'init': 'glorot_uniform',\n",
       " 'input_dim': 100,\n",
       " 'input_dtype': 'float32',\n",
       " 'name': 'dense_4',\n",
       " 'output_dim': 64,\n",
       " 'trainable': True}"
      ]
     },
     "execution_count": 17,
     "metadata": {},
     "output_type": "execute_result"
    }
   ],
   "source": [
    "config"
   ]
  },
  {
   "cell_type": "code",
   "execution_count": 12,
   "metadata": {
    "collapsed": false
   },
   "outputs": [
    {
     "data": {
      "text/plain": [
       "'dense_2'"
      ]
     },
     "execution_count": 12,
     "metadata": {},
     "output_type": "execute_result"
    }
   ],
   "source": [
    "config.get('name')"
   ]
  },
  {
   "cell_type": "code",
   "execution_count": 4,
   "metadata": {
    "collapsed": false
   },
   "outputs": [
    {
     "data": {
      "text/plain": [
       "keras.layers.core.Dense"
      ]
     },
     "execution_count": 4,
     "metadata": {},
     "output_type": "execute_result"
    }
   ],
   "source": [
    "type(model.layers[0])"
   ]
  },
  {
   "cell_type": "code",
   "execution_count": 20,
   "metadata": {
    "collapsed": false
   },
   "outputs": [
    {
     "data": {
      "text/plain": [
       "{'W_constraint': None,\n",
       " 'W_regularizer': None,\n",
       " 'activation': 'linear',\n",
       " 'activity_regularizer': None,\n",
       " 'b_constraint': None,\n",
       " 'b_regularizer': None,\n",
       " 'batch_input_shape': (None, 100),\n",
       " 'bias': True,\n",
       " 'init': 'glorot_uniform',\n",
       " 'input_dim': 100,\n",
       " 'input_dtype': 'float32',\n",
       " 'name': 'dense_4',\n",
       " 'output_dim': 64,\n",
       " 'trainable': True}"
      ]
     },
     "execution_count": 20,
     "metadata": {},
     "output_type": "execute_result"
    }
   ],
   "source": [
    "layer_correct.get_config()"
   ]
  },
  {
   "cell_type": "code",
   "execution_count": 21,
   "metadata": {
    "collapsed": true
   },
   "outputs": [],
   "source": [
    "\n",
    "model.add(layer_correct)"
   ]
  }
 ],
 "metadata": {
  "kernelspec": {
   "display_name": "Python 3",
   "language": "python",
   "name": "python3"
  },
  "language_info": {
   "codemirror_mode": {
    "name": "ipython",
    "version": 3
   },
   "file_extension": ".py",
   "mimetype": "text/x-python",
   "name": "python",
   "nbconvert_exporter": "python",
   "pygments_lexer": "ipython3",
   "version": "3.5.1"
  }
 },
 "nbformat": 4,
 "nbformat_minor": 2
}
